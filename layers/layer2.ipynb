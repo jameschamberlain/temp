{
 "cells": [
  {
   "cell_type": "markdown",
   "source": [
    "# Non-linear mapping\n",
    "The second layer can be formally expressed as\n",
    "\n",
    "$$F_2(\\textbf{Y}) = \\max(0,W_2*F_1(\\textbf{Y}+B_2)$$\n",
    "\n",
    "Here:\n",
    "\n",
    "- $W_2$ is of size $n_1 \\times 1 \\times 1 \\times n_2$\n",
    "- $B_2$ is $n_2$-dimensional\n",
    "\n",
    "\n"
   ],
   "metadata": {
    "collapsed": false
   }
  }
 ],
 "metadata": {
  "kernelspec": {
   "display_name": "Python 3",
   "language": "python",
   "name": "python3"
  },
  "language_info": {
   "codemirror_mode": {
    "name": "ipython",
    "version": 2
   },
   "file_extension": ".py",
   "mimetype": "text/x-python",
   "name": "python",
   "nbconvert_exporter": "python",
   "pygments_lexer": "ipython2",
   "version": "2.7.6"
  },
  "pycharm": {
   "stem_cell": {
    "cell_type": "raw",
    "source": [],
    "metadata": {
     "collapsed": false
    }
   }
  }
 },
 "nbformat": 4,
 "nbformat_minor": 0
}